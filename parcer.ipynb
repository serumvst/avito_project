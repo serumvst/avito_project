{
 "cells": [
  {
   "cell_type": "markdown",
   "id": "06ace59f",
   "metadata": {},
   "source": [
    "## <u>Сбор данных</u>"
   ]
  },
  {
   "cell_type": "code",
   "execution_count": 1,
   "id": "6a830177",
   "metadata": {},
   "outputs": [],
   "source": [
    "import requests\n",
    "from bs4 import BeautifulSoup as BS"
   ]
  },
  {
   "cell_type": "code",
   "execution_count": 2,
   "id": "109769c6",
   "metadata": {},
   "outputs": [],
   "source": [
    "url = \"https://www.avito.ru/moskva_i_mo/avtomobili?cd=1&p=1&q=bmw\"\n",
    "r = requests.get(url)\n",
    "html = BS(r.content, \"html.parser\")"
   ]
  },
  {
   "cell_type": "code",
   "execution_count": 3,
   "id": "50878493",
   "metadata": {},
   "outputs": [
    {
     "name": "stdout",
     "output_type": "stream",
     "text": [
      "Data received!\n"
     ]
    }
   ],
   "source": [
    "if html != 0:\n",
    "    check = \"Data received!\"\n",
    "    \n",
    "print(check)"
   ]
  },
  {
   "cell_type": "code",
   "execution_count": 4,
   "id": "e70b90da",
   "metadata": {},
   "outputs": [
    {
     "name": "stderr",
     "output_type": "stream",
     "text": [
      "IOPub data rate exceeded.\n",
      "The notebook server will temporarily stop sending output\n",
      "to the client in order to avoid crashing it.\n",
      "To change this limit, set the config variable\n",
      "`--NotebookApp.iopub_data_rate_limit`.\n",
      "\n",
      "Current values:\n",
      "NotebookApp.iopub_data_rate_limit=1000000.0 (bytes/sec)\n",
      "NotebookApp.rate_limit_window=3.0 (secs)\n",
      "\n"
     ]
    }
   ],
   "source": [
    "r = requests.get(url)\n",
    "\n",
    "print(r.status_code)  # Должен быть 200\n",
    "print(r.headers)      # Информация о заголовках ответа\n",
    "print(r.text)         # Выводит HTML содержимое страницы\n"
   ]
  },
  {
   "cell_type": "code",
   "execution_count": 8,
   "id": "c384a77a",
   "metadata": {},
   "outputs": [
    {
     "name": "stdout",
     "output_type": "stream",
     "text": [
      "\n"
     ]
    }
   ],
   "source": [
    "page = 1\n",
    "\n",
    "while True:\n",
    "    \n",
    "    url = (\"https://www.avito.ru/moskva_i_mo/avtomobili?cd=1&p=\" + str(page)+ \"&q=bmw\")\n",
    "    r = requests.get(url)\n",
    "    html = BS(r.content, \"html.parser\")\n",
    "    pages = html.select(\".items-items-kAJAg > .iva-item-root-_lk9K\")\n",
    "    \n",
    "    if (len(pages)):\n",
    "        for el in pages:\n",
    "            # Получаем всю информацию об автомобиле\n",
    "            info = el.find(\"div\", {\"class\" : \"iva-item-title-py3i_\" }).find(\"a\").get(\"title\")\n",
    "\n",
    "            # Выводим всю информацию об автомобиле\n",
    "            # print(f'{info} \\n')\n",
    "\n",
    "            # Разделяем строку по запятым и пробелам\n",
    "            parts = info.split(\", \")\n",
    "\n",
    "            # Получаем название автомобиля\n",
    "            car_name = parts[0]\n",
    "\n",
    "            # print(\"Название:\", car_name)\n",
    "\n",
    "            # Получаем год выпуска\n",
    "            car_age = parts[1]\n",
    "\n",
    "            #print(\"Год выпуска:\", car_age)\n",
    "\n",
    "            # Получаем километраж \n",
    "            car_km = parts[2]\n",
    "\n",
    "            #print(\"Километраж\", car_km)\n",
    "\n",
    "            # Получаем стоимость\n",
    "            car_price = parts[-1]\n",
    "\n",
    "\n",
    "            price_start = car_price.find(\"цена\") + 5\n",
    "            price_end = car_price.find(\"руб\")\n",
    "            price = car_price[price_start:price_end].strip()\n",
    "\n",
    "            #print(\"Стоимость:\", price)\n",
    "\n",
    "            #print(f'\\n')\n",
    "    else:\n",
    "        break"
   ]
  },
  {
   "cell_type": "markdown",
   "id": "d275fe7b",
   "metadata": {},
   "source": [
    "## <u>Импортируем в csv-файл"
   ]
  },
  {
   "cell_type": "code",
   "execution_count": 9,
   "id": "7b143c1c",
   "metadata": {},
   "outputs": [],
   "source": [
    "import requests\n",
    "from bs4 import BeautifulSoup as BS\n",
    "import csv\n",
    "import time"
   ]
  },
  {
   "cell_type": "code",
   "execution_count": 13,
   "id": "ad367b51",
   "metadata": {},
   "outputs": [
    {
     "name": "stdout",
     "output_type": "stream",
     "text": [
      "Слишком много запросов, ждем 10 секунд.\n",
      "Слишком много запросов, ждем 10 секунд.\n",
      "Слишком много запросов, ждем 10 секунд.\n",
      "Слишком много запросов, ждем 10 секунд.\n",
      "Слишком много запросов, ждем 10 секунд.\n",
      "Слишком много запросов, ждем 10 секунд.\n",
      "Слишком много запросов, ждем 10 секунд.\n",
      "Слишком много запросов, ждем 10 секунд.\n",
      "Слишком много запросов, ждем 10 секунд.\n"
     ]
    }
   ],
   "source": [
    "# Задаем настройки прокси\n",
    "proxies = {\n",
    "    'http': 'http://10.10.1.10:3128',\n",
    "    'https': 'https://10.10.1.10:1080',\n",
    "}\n",
    "\n",
    "with open('cars_info.csv', 'w', newline='', encoding='utf-8') as csvfile:\n",
    "    writer = csv.writer(csvfile)\n",
    "    writer.writerow(['Название', 'Год выпуска', 'Километраж', 'Стоимость'])\n",
    "\n",
    "    page = 1\n",
    "    while True:\n",
    "        try:\n",
    "            url = f\"https://www.avito.ru/moskva_i_mo/avtomobili?cd=1&p={page}&q=bmw\"\n",
    "            r = requests.get(url, proxies=proxies)  # Добавляем прокси к запросу\n",
    "            \n",
    "            # Проверяем код состояния ответа\n",
    "            if r.status_code == 429:\n",
    "                retry_after = r.headers.get(\"Retry-After\")\n",
    "                delay = int(retry_after) if retry_after else 10\n",
    "                print(f\"Слишком много запросов, ждем {delay} секунд.\")\n",
    "                time.sleep(delay)\n",
    "                continue  # Пропускаем оставшуюся часть цикла и повторяем запрос\n",
    "\n",
    "            # Если код состояния не 429, то продолжаем обработку страницы\n",
    "            r.raise_for_status()  # Вызовет исключение для кодов состояния 4xx/5xx\n",
    "            html = BS(r.content, 'html.parser')\n",
    "            pages = html.select('.items-items-kAJAg > .iva-item-root-_lk9K')\n",
    "            \n",
    "            if not pages:\n",
    "                break  # Выходим из цикла, если нет контента\n",
    "\n",
    "            for el in pages:\n",
    "                info = el.find('div', {'class': 'iva-item-title-py3i_'}).find('a').get('title')\n",
    "                parts = info.split(', ')\n",
    "                car_name = parts[0]\n",
    "                car_age = parts[1]\n",
    "                car_km = parts[2]\n",
    "                car_price = parts[-1]\n",
    "\n",
    "                # Записываем данные в CSV\n",
    "                writer.writerow([car_name, car_age, car_km, car_price])\n",
    "\n",
    "            page += 1  # Переходим на следующую страницу\n",
    "\n",
    "        except requests.exceptions.HTTPError as err:\n",
    "            print(f\"Произошла HTTP ошибка: {err}\")\n",
    "            break  # Прерываем цикл в случае HTTP ошибки\n",
    "        except requests.exceptions.RequestException as e:\n",
    "            print(f\"Произошла ошибка запроса: {e}\")\n",
    "            break  # Прерываем цикл в случае других ошибок запроса"
   ]
  }
 ],
 "metadata": {
  "kernelspec": {
   "display_name": "Python 3 (ipykernel)",
   "language": "python",
   "name": "python3"
  },
  "language_info": {
   "codemirror_mode": {
    "name": "ipython",
    "version": 3
   },
   "file_extension": ".py",
   "mimetype": "text/x-python",
   "name": "python",
   "nbconvert_exporter": "python",
   "pygments_lexer": "ipython3",
   "version": "3.11.5"
  }
 },
 "nbformat": 4,
 "nbformat_minor": 5
}
